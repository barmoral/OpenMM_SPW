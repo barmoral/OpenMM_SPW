{
 "cells": [
  {
   "attachments": {},
   "cell_type": "markdown",
   "metadata": {},
   "source": [
    "Loading OpenFF "
   ]
  },
  {
   "cell_type": "code",
   "execution_count": 1,
   "metadata": {},
   "outputs": [],
   "source": [
    "import numpy as np\n",
    "from pathlib import Path\n",
    "from typing import Any, Callable, Optional, Iterable\n",
    "\n",
    "from openff.toolkit import ForceField\n",
    "from openforcefields import openforcefields\n",
    "\n",
    "ff_dir = openforcefields.resource_filename('openforcefields', 'offxml')\n",
    "ff_dir = Path(ff_dir)\n",
    "\n",
    "ff_path = ff_dir / 'openff-2.0.0.offxml'\n",
    "forcefield = ForceField(ff_path)"
   ]
  },
  {
   "cell_type": "markdown",
   "metadata": {},
   "source": [
    "## Loading Molecule"
   ]
  },
  {
   "cell_type": "code",
   "execution_count": 3,
   "metadata": {},
   "outputs": [],
   "source": [
    "from openff.toolkit import Molecule, Topology\n",
    "from openmm.unit import angstrom, nanometer\n",
    "\n",
    "STRUCT_DIR = Path('structures')\n",
    "struct_path = STRUCT_DIR / 'SPW_1m_JC.pdb'\n",
    "\n",
    "offtop = Topology.from_pdb(str(struct_path))\n",
    "mols = [mol for mol in offtop.molecules]"
   ]
  },
  {
   "cell_type": "code",
   "execution_count": 11,
   "metadata": {},
   "outputs": [
    {
     "name": "stdout",
     "output_type": "stream",
     "text": [
      "[ 4.8057  4.8031 14.4017] nm\n"
     ]
    }
   ],
   "source": [
    "# setting unit cell size to specify box volume for PBCs\n",
    "exclusion = 0 * nanometer # how far to extend the unit cell beyond the molecules boundaries\n",
    "\n",
    "mol_bbox = offtop.get_positions().ptp(axis=0) # NOTe : OpenFF conformers have coordinates in OpenFF units (NOT OpenMM units)\n",
    "mol_bbox = mol_bbox.magnitude * nanometer # convert to OpenMM units to simplify combination\n",
    "\n",
    "box_size = mol_bbox + 2*exclusion # x2 factor accounts for exclusion on either side of box along each axis\n",
    "offtop.box_vectors = box_size.in_units_of(angstrom)\n",
    "\n",
    "print(box_size)"
   ]
  },
  {
   "cell_type": "markdown",
   "metadata": {},
   "source": [
    "## Estimate number of particles needed by physical parameters"
   ]
  },
  {
   "cell_type": "code",
   "execution_count": 5,
   "metadata": {},
   "outputs": [],
   "source": [
    "from openmm.unit import centimeter, nanometer, angstrom\n",
    "from openmm.unit import mole, gram\n",
    "from openmm.unit import AVOGADRO_CONSTANT_NA\n",
    "\n",
    "from functools import reduce\n",
    "from operator import mul\n",
    "from math import ceil\n",
    "\n",
    "def product(vals : Iterable) -> float:\n",
    "    '''Takes a collection of numbers and multiplies then all together'''\n",
    "    return reduce(mul, vals)\n",
    "\n",
    "def get_number_density(target_density : float, Mw : float) -> float:\n",
    "    '''Takes a macroscopic density and converts it to a particule number per microscale volume'''\n",
    "    number_density = (target_density / Mw)\n",
    "    number_density *= AVOGADRO_CONSTANT_NA # convert from mass to moles\n",
    "\n",
    "    return number_density.in_units_of(nanometer**-3)\n",
    "def get_ion_density(concentration : float) -> float:\n",
    "    '''Takes a macroscopic density and converts it to a particule number per microscale volume'''\n",
    "    ion_density = (concentration)\n",
    "    ion_density *= AVOGADRO_CONSTANT_NA # convert from mass to moles\n",
    "\n",
    "    return ion_density\n"
   ]
  },
  {
   "cell_type": "code",
   "execution_count": 6,
   "metadata": {},
   "outputs": [
    {
     "name": "stdout",
     "output_type": "stream",
     "text": [
      "Na: 200.19026161896167 nm**3/mol Cl: 200.19026161896167 nm**3/mol Waters: 11110.559519852372 nm**3/mol\n"
     ]
    }
   ],
   "source": [
    "box_volume = (product(box_size)*1e-24)\n",
    "conc_ions=1\n",
    "conc_water=55.5\n",
    "ions=get_ion_density(conc_ions)\n",
    "waters=get_ion_density(conc_water)\n",
    "num_ions=(ions*box_volume)\n",
    "num_waters=(waters*box_volume)\n",
    "print('Na:',num_ions,'Cl:',num_ions,'Waters:',num_waters)"
   ]
  },
  {
   "cell_type": "markdown",
   "metadata": {},
   "source": [
    "## Visualizing molecules in IDE"
   ]
  },
  {
   "cell_type": "code",
   "execution_count": 14,
   "metadata": {},
   "outputs": [],
   "source": [
    "# mol = next(offtop.molecules)\n",
    "# mol # calls iPython wrapper under the hood"
   ]
  },
  {
   "cell_type": "code",
   "execution_count": 15,
   "metadata": {},
   "outputs": [],
   "source": [
    "# mol.visualize(backend='nglview') # this does exactly the same thing"
   ]
  },
  {
   "cell_type": "code",
   "execution_count": 16,
   "metadata": {},
   "outputs": [],
   "source": [
    "# print(mol) # this gives more info (but is NOT the same thing)"
   ]
  },
  {
   "attachments": {},
   "cell_type": "markdown",
   "metadata": {},
   "source": [
    "OpenMM Simulation"
   ]
  },
  {
   "cell_type": "code",
   "execution_count": 12,
   "metadata": {},
   "outputs": [],
   "source": [
    "\n",
    "from openff.interchange import Interchange\n",
    "\n",
    "from openmm import Integrator\n",
    "from openmm.openmm import Force\n",
    "from openmm.app import Simulation\n",
    "\n",
    "from openmm.unit import nanometer\n",
    "from openff.units import unit as offunit\n",
    "\n",
    "\n",
    "# helper function for setting up simulation boilerplate\n",
    "def create_simulation(interchange : Interchange, integrator : Integrator, forces : Optional[Iterable[Force]]=None) -> Simulation:\n",
    "    '''Specifies configuration for an OpenMM Simulation - Interchange load alows many routes for creation'''\n",
    "    openmm_sys = interchange.to_openmm(combine_nonbonded_forces=True)\n",
    "    openmm_top = interchange.topology.to_openmm()\n",
    "    openmm_pos = interchange.positions.m_as(offunit.nanometer) * nanometer\n",
    "    if forces: # deliberately sparse to handle both Nonetype and empty list\n",
    "        for force in forces:\n",
    "            openmm_sys.addForce(force)\n",
    "    \n",
    "    simulation = Simulation(openmm_top, openmm_sys, integrator)\n",
    "    simulation.context.setPositions(openmm_pos)\n",
    "\n",
    "    return simulation"
   ]
  },
  {
   "cell_type": "code",
   "execution_count": 13,
   "metadata": {},
   "outputs": [],
   "source": [
    "from openmm import LangevinMiddleIntegrator\n",
    "from openmm.openmm import MonteCarloBarostat\n",
    "\n",
    "from openmm.unit import femtosecond, picosecond\n",
    "from openmm.unit import kelvin, atmosphere\n",
    "\n",
    "timestep = 2 * femtosecond\n",
    "temp = 300 * kelvin\n",
    "friction = 1 * picosecond**-1 "
   ]
  },
  {
   "cell_type": "code",
   "execution_count": null,
   "metadata": {},
   "outputs": [],
   "source": [
    "# actual creation using SMIRNOFF and OpenMM\n",
    "interchange = Interchange.from_smirnoff(forcefield, topology=offtop)\n",
    "sim = create_simulation(interchange=interchange, integrator=integrator, forces=[barostat])"
   ]
  },
  {
   "cell_type": "code",
   "execution_count": null,
   "metadata": {},
   "outputs": [],
   "source": [
    "# Adding Reporters to allow simulation to output data and trajectories\n",
    "from openmm.app import PDBReporter, DCDReporter, StateDataReporter, CheckpointReporter \n",
    "\n",
    "SIM_DIR = Path('simulations/saltbox_equil/')\n",
    "record_freq = 100 # how many timesteps between data output\n",
    "\n",
    "traj_path  = SIM_DIR / 'saltbox.dcd'\n",
    "check_path = SIM_DIR / 'saltbox.chk'\n",
    "data_path  = SIM_DIR / 'saltbox.csv'\n",
    "\n",
    "reported_state_data = { # physical parameters that OpenMM should (or shouldn't) compute\n",
    "    \"step\": True,\n",
    "    \"time\": True,\n",
    "    \"potentialEnergy\": True,\n",
    "    \"kineticEnergy\": True,\n",
    "    \"totalEnergy\": True,\n",
    "    \"temperature\": True,\n",
    "    \"volume\": True,\n",
    "    \"density\": True,\n",
    "    \"progress\": False,\n",
    "    \"remainingTime\": False,\n",
    "    \"speed\": True,\n",
    "    \"elapsedTime\": False\n",
    "}\n",
    "\n",
    "traj_rep  = DCDReporter(file=str(traj_path), reportInterval=record_freq)  # save frames at the specified interval\n",
    "check_rep = CheckpointReporter(str(check_path), reportInterval=record_freq)\n",
    "state_rep = StateDataReporter(str(data_path), reportInterval=record_freq, **reported_state_data)\n",
    "\n",
    "reporters = (traj_rep, check_rep, state_rep)\n",
    "for rep in reporters:\n",
    "    sim.reporters.append(rep) # add any desired reporters to simulation for tracking"
   ]
  },
  {
   "cell_type": "markdown",
   "metadata": {},
   "source": [
    "Energy-minimization and simulation run"
   ]
  },
  {
   "cell_type": "code",
   "execution_count": null,
   "metadata": {},
   "outputs": [],
   "source": [
    "integ_time = 50 * picosecond\n",
    "n_steps = integ_time / timestep # number of integration steps to carry out simulation\n",
    "\n",
    "sim.minimizeEnergy()\n",
    "sim.step(n_steps)"
   ]
  },
  {
   "cell_type": "markdown",
   "metadata": {},
   "source": [
    "### Extracting last frame of trajectory, analyzing data oer trajectory"
   ]
  },
  {
   "cell_type": "code",
   "execution_count": null,
   "metadata": {},
   "outputs": [],
   "source": [
    "import mdtraj as mdt\n",
    "\n",
    "traj = mdt.load(traj_path, top=struct_path, stride=1)\n",
    "last_frame = traj[-1]\n",
    "equil_path  = SIM_DIR / 'saltbox_equil.pdb'    \n",
    "\n",
    "last_frame.save(equil_path)"
   ]
  },
  {
   "cell_type": "code",
   "execution_count": null,
   "metadata": {},
   "outputs": [],
   "source": [
    "import pandas as pd\n",
    "\n",
    "df = pd.read_csv(data_path)"
   ]
  },
  {
   "cell_type": "code",
   "execution_count": null,
   "metadata": {},
   "outputs": [],
   "source": [
    "import matplotlib.pyplot as plt\n",
    "\n",
    "plt.plot(df['Box Volume (nm^3)'])"
   ]
  }
 ],
 "metadata": {
  "kernelspec": {
   "display_name": "openff",
   "language": "python",
   "name": "python3"
  },
  "language_info": {
   "codemirror_mode": {
    "name": "ipython",
    "version": 3
   },
   "file_extension": ".py",
   "mimetype": "text/x-python",
   "name": "python",
   "nbconvert_exporter": "python",
   "pygments_lexer": "ipython3",
   "version": "3.10.11"
  },
  "orig_nbformat": 4
 },
 "nbformat": 4,
 "nbformat_minor": 2
}
