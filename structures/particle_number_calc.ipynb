{
 "cells": [
  {
   "cell_type": "code",
   "execution_count": 1,
   "metadata": {},
   "outputs": [],
   "source": [
    "import numpy as np"
   ]
  },
  {
   "cell_type": "code",
   "execution_count": 2,
   "metadata": {},
   "outputs": [
    {
     "name": "stdout",
     "output_type": "stream",
     "text": [
      "Volume is 1.106E-22L\n",
      "Number of water molecules in box: 3700\n"
     ]
    }
   ],
   "source": [
    "#Volume in L of Box\n",
    "w=4.8*1E-9\n",
    "l=4.8*1E-9\n",
    "h=4.8*1E-9\n",
    "vol=(w*l*h)*1E3\n",
    "print('Volume is '+'%.3E'%vol+'L')\n",
    "\n",
    "#Particles of water in box\n",
    "waters=55.55*vol*6.022E23\n",
    "print('Number of water molecules in box: '+'%.0f'%waters)\n",
    "\n",
    "#Molarity calculation from molality, particle number\n",
    "def particles(m,dens,mm_solute):\n",
    "    grams_solute=m*mm_solute\n",
    "    grams_soln=1000+grams_solute\n",
    "    liters_soln=(grams_soln/dens)/1000\n",
    "    molarity_final=m/liters_soln\n",
    "    moles=molarity_final*vol\n",
    "    molecules=moles*6.022E23\n",
    "    mole_fctn=55.55/(molarity_final+55.55)\n",
    "    return print('Molality is '+'%.2f'%m+'m'+' and Molarity is '+'%.2f'%molarity_final+'M'), print('Number of particles of solute: '+'%.0f'%molecules), print('Mole Fraction: '+'%.3f'%mole_fctn)"
   ]
  },
  {
   "cell_type": "code",
   "execution_count": 3,
   "metadata": {},
   "outputs": [],
   "source": [
    "#Molarity calculation from molality, particle number\n",
    "def particles(m,dens):\n",
    "    mm_solute=58.44\n",
    "    grams_solute=m*mm_solute\n",
    "    grams_soln=1000+grams_solute\n",
    "    liters_soln=(grams_soln/dens)/1000\n",
    "    molarity_final=m/liters_soln\n",
    "    moles=molarity_final*vol\n",
    "    molecules=moles*6.022E23\n",
    "    mole_fctn=55.55/(molarity_final+55.55)\n",
    "    return print('Molality is '+'%.2f'%m+'m'+' and Molarity is '+'%.2f'%molarity_final+'M'), print('Number of particles of solute: '+'%.0f'%molecules), print('Mole Fraction: '+'%.3f'%mole_fctn)"
   ]
  },
  {
   "cell_type": "code",
   "execution_count": 4,
   "metadata": {},
   "outputs": [
    {
     "name": "stdout",
     "output_type": "stream",
     "text": [
      "Molality is 0.50m and Molarity is 0.49M\n",
      "Number of particles of solute: 33\n",
      "Mole Fraction: 0.991\n",
      "Molality is 0.60m and Molarity is 0.59M\n",
      "Number of particles of solute: 39\n",
      "Mole Fraction: 0.989\n",
      "Molality is 1.00m and Molarity is 0.98M\n",
      "Number of particles of solute: 65\n",
      "Mole Fraction: 0.983\n",
      "Molality is 2.00m and Molarity is 1.92M\n",
      "Number of particles of solute: 128\n",
      "Mole Fraction: 0.967\n",
      "Molality is 3.00m and Molarity is 2.82M\n",
      "Number of particles of solute: 188\n",
      "Mole Fraction: 0.952\n",
      "Molality is 3.50m and Molarity is 3.26M\n",
      "Number of particles of solute: 217\n",
      "Mole Fraction: 0.945\n",
      "Molality is 4.00m and Molarity is 3.69M\n",
      "Number of particles of solute: 246\n",
      "Mole Fraction: 0.938\n",
      "Molality is 5.00m and Molarity is 4.51M\n",
      "Number of particles of solute: 301\n",
      "Mole Fraction: 0.925\n"
     ]
    },
    {
     "data": {
      "text/plain": [
       "(None, None, None)"
      ]
     },
     "execution_count": 4,
     "metadata": {},
     "output_type": "execute_result"
    }
   ],
   "source": [
    "#check aqueous NaCl density https://advancedthermo.com/electrolytes/density_NaCl_Jun2021.html\n",
    "#specify molality desired, density of solute (g/mL), molar mass of solute (g/mol)\n",
    "particles(0.5,1.01709)\n",
    "particles(0.6,1.02098)\n",
    "particles(1,1.03621)\n",
    "particles(2,1.07227)\n",
    "particles(3,1.10579)\n",
    "particles(3.5,1.12170)\n",
    "particles(4,1.13709)\n",
    "particles(5,1.16644)"
   ]
  },
  {
   "cell_type": "code",
   "execution_count": 5,
   "metadata": {},
   "outputs": [],
   "source": [
    "def conc(na_ions,cl_ions,volume):\n",
    "    moles_solute=(na_ions+cl_ions)/6.022e23"
   ]
  },
  {
   "cell_type": "code",
   "execution_count": 6,
   "metadata": {},
   "outputs": [
    {
     "name": "stdout",
     "output_type": "stream",
     "text": [
      "0.32666666666666666\n"
     ]
    }
   ],
   "source": [
    "m1=0.98\n",
    "v1=2.70e-23\n",
    "v2=8.10e-23\n",
    "\n",
    "m2=(m1*v1)/v2\n",
    "print(m2)"
   ]
  },
  {
   "cell_type": "code",
   "execution_count": 7,
   "metadata": {},
   "outputs": [
    {
     "name": "stdout",
     "output_type": "stream",
     "text": [
      "1/2Rmin to sigma= 0.2439280690268249 nm\n",
      "1/2Rmin to sigma= 0.4477656957373345 nm\n",
      "1/2Rmin to sigma= 2.439280690268249 A\n",
      "1/2Rmin to sigma= 4.477656957373345 A\n"
     ]
    }
   ],
   "source": [
    "from openmm.unit import Quantity, Unit, nanometer,angstrom, kilocalorie_per_mole,kilojoule_per_mole\n",
    "#rmin/2 to sigma\n",
    "\n",
    "def rmin2sigma(rmin2:Quantity)-> Quantity:\n",
    "    #rmin2=rmin2.in_units_of(angstrom)\n",
    "    sigma=rmin2*(2**(-1/6))\n",
    "    sigmanm=sigma.in_units_of(nanometer)\n",
    "    print(f\"Rmin to sigma= {sigmanm}\")\n",
    "\n",
    "def hrmin2sigma(rmin2:Quantity)-> Quantity:\n",
    "    #rmin2=rmin2.in_units_of(angstrom)\n",
    "    sigma=rmin2*(2**(-1/6))\n",
    "    sigma=sigma*2\n",
    "    sigmanm=sigma.in_units_of(nanometer)\n",
    "    print(f\"1/2Rmin to sigma= {sigmanm}\")\n",
    "\n",
    "def hrmin2sigmaA(rmin2:Quantity)-> Quantity:\n",
    "    #rmin2=rmin2.in_units_of(angstrom)\n",
    "    sigma=rmin2*(2**(-1/6))\n",
    "    sigma=sigma*2\n",
    "    print(f\"1/2Rmin to sigma= {sigma}\")\n",
    "    return(sigma)\n",
    "\n",
    "# na=rmin2sigma(1.369*angstrom)\n",
    "# cl=rmin2sigma(2.513*angstrom)\n",
    "\n",
    "naA=hrmin2sigma(1.369*angstrom)\n",
    "clA=hrmin2sigma(2.513*angstrom)\n",
    "\n",
    "naA=hrmin2sigmaA(1.369*angstrom)\n",
    "clA=hrmin2sigmaA(2.513*angstrom)"
   ]
  },
  {
   "cell_type": "code",
   "execution_count": 8,
   "metadata": {},
   "outputs": [
    {
     "name": "stdout",
     "output_type": "stream",
     "text": [
      "3.458468823820797 A\n"
     ]
    }
   ],
   "source": [
    "LB_sigma=(naA+clA)/2\n",
    "print(LB_sigma)"
   ]
  },
  {
   "cell_type": "code",
   "execution_count": 9,
   "metadata": {},
   "outputs": [
    {
     "name": "stdout",
     "output_type": "stream",
     "text": [
      "0.3658460312 kJ/mol\n",
      "0.14891274399999999 kJ/mol\n"
     ]
    }
   ],
   "source": [
    "epsNa=0.0874393*(kilocalorie_per_mole)\n",
    "epsNakjmol=epsNa.in_units_of(kilojoule_per_mole)\n",
    "print(epsNakjmol)\n",
    "\n",
    "epsCl=0.0355910*(kilocalorie_per_mole)\n",
    "epsClkjmol=epsCl.in_units_of(kilojoule_per_mole)\n",
    "print(epsClkjmol)"
   ]
  },
  {
   "cell_type": "code",
   "execution_count": 10,
   "metadata": {},
   "outputs": [],
   "source": [
    "# print(combsigma.in_units_of(nanometer))\n",
    "# combroux=3.676*angstrom\n",
    "# print(combroux.in_units_of(nanometer))"
   ]
  },
  {
   "cell_type": "code",
   "execution_count": 11,
   "metadata": {},
   "outputs": [
    {
     "name": "stdout",
     "output_type": "stream",
     "text": [
      "0.1962296 kJ/mol\n",
      "0.6276 kJ/mol\n",
      "0.3509326102829431 kJ/mol\n"
     ]
    }
   ],
   "source": [
    "def emin2eps(emin:Quantity)-> Quantity:\n",
    "        eminkj=emin.in_units_of(kilojoule_per_mole)\n",
    "        eps=-eminkj\n",
    "        print(eps)\n",
    "        return(eps)\n",
    "\n",
    "na_e=emin2eps(-0.0469*kilocalorie_per_mole)\n",
    "cl_e=emin2eps(-0.1500*kilocalorie_per_mole)\n",
    "\n",
    "ceps=np.sqrt(na_e*cl_e)\n",
    "print(ceps)"
   ]
  },
  {
   "cell_type": "code",
   "execution_count": 12,
   "metadata": {},
   "outputs": [
    {
     "name": "stdout",
     "output_type": "stream",
     "text": [
      "0.3509326102829431 kJ/mol\n"
     ]
    }
   ],
   "source": [
    "\n",
    "eminNa=-0.0469*kilocalorie_per_mole\n",
    "eminCl=-0.1500*kilocalorie_per_mole\n",
    "combemin=np.sqrt(eminNa*eminCl)\n",
    "print(combemin.in_units_of(kilojoule_per_mole))"
   ]
  },
  {
   "cell_type": "code",
   "execution_count": 13,
   "metadata": {},
   "outputs": [
    {
     "name": "stdout",
     "output_type": "stream",
     "text": [
      "0.3658460312 kJ/mol\n",
      "0.14891274399999999 kJ/mol\n"
     ]
    }
   ],
   "source": [
    "epsna=0.0874393*kilocalorie_per_mole\n",
    "epsna=epsna.in_units_of(kilojoule_per_mole)\n",
    "\n",
    "epscl=0.0355910*kilocalorie_per_mole\n",
    "epscl=epscl.in_units_of(kilojoule_per_mole)\n",
    "\n",
    "print(epsna)\n",
    "print(epscl)"
   ]
  },
  {
   "cell_type": "code",
   "execution_count": null,
   "metadata": {},
   "outputs": [],
   "source": []
  }
 ],
 "metadata": {
  "kernelspec": {
   "display_name": "gromacs",
   "language": "python",
   "name": "python3"
  },
  "language_info": {
   "codemirror_mode": {
    "name": "ipython",
    "version": 3
   },
   "file_extension": ".py",
   "mimetype": "text/x-python",
   "name": "python",
   "nbconvert_exporter": "python",
   "pygments_lexer": "ipython3",
   "version": "3.10.13"
  },
  "orig_nbformat": 4
 },
 "nbformat": 4,
 "nbformat_minor": 2
}
