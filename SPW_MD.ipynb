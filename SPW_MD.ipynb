{
 "cells": [
  {
   "cell_type": "markdown",
   "metadata": {},
   "source": [
    "## Testing that polymerist is importable"
   ]
  },
  {
   "cell_type": "code",
   "execution_count": 1,
   "metadata": {},
   "outputs": [
    {
     "name": "stderr",
     "output_type": "stream",
     "text": [
      "INFO:numexpr.utils:Note: NumExpr detected 16 cores but \"NUMEXPR_MAX_THREADS\" not set, so enforcing safe limit of 8.\n",
      "INFO:numexpr.utils:NumExpr defaulting to 8 threads.\n",
      "INFO:rdkit:Enabling RDKit 2023.09.5 jupyter extensions\n"
     ]
    },
    {
     "data": {
      "application/vnd.jupyter.widget-view+json": {
       "model_id": "3b992f6a54d44e66b617e6ba8825107e",
       "version_major": 2,
       "version_minor": 0
      },
      "text/plain": []
     },
     "metadata": {},
     "output_type": "display_data"
    },
    {
     "name": "stderr",
     "output_type": "stream",
     "text": [
      "[11:37:49] WARNING: not removing hydrogen atom with dummy atom neighbors\n",
      "INFO:polymerist.smileslib.functgroups:Loading functional group SMARTS data from LUT\n"
     ]
    }
   ],
   "source": [
    "import logging\n",
    "logging.basicConfig(\n",
    "    level=logging.INFO\n",
    ")\n",
    "\n",
    "import polymerist as ps\n",
    "from polymerist.genutils.importutils import module_hierarchy\n",
    "\n",
    "# print(module_hierarchy(ps))"
   ]
  },
  {
   "cell_type": "code",
   "execution_count": 2,
   "metadata": {},
   "outputs": [],
   "source": [
    "import MDAnalysis as mda\n",
    "\n",
    "import warnings\n",
    "# suppress some MDAnalysis warnings when writing PDB files\n",
    "warnings.filterwarnings('ignore')"
   ]
  },
  {
   "cell_type": "markdown",
   "metadata": {},
   "source": [
    "## Parameterizing PDB system"
   ]
  },
  {
   "cell_type": "markdown",
   "metadata": {},
   "source": [
    "### Initializing paths and working directory"
   ]
  },
  {
   "cell_type": "code",
   "execution_count": 3,
   "metadata": {},
   "outputs": [],
   "source": [
    "from pathlib import Path\n",
    "from polymerist.genutils.fileutils.pathutils import assemble_path\n",
    "\n",
    "\n",
    "working_dir = Path.cwd() # can change this to wherever your files are\n",
    "mol_name = 'SPW_1m_JC'\n",
    "\n",
    "pdb_path = assemble_path(working_dir, mol_name, extension='pdb') \n",
    "sdf_path = assemble_path(working_dir, mol_name, extension='sdf') \n",
    "inc_path = assemble_path(working_dir, mol_name, extension='pkl') "
   ]
  },
  {
   "cell_type": "markdown",
   "metadata": {},
   "source": [
    "### Load Topology from PDB ( no overhead since not using long molecules), check that molecules exist"
   ]
  },
  {
   "cell_type": "code",
   "execution_count": 4,
   "metadata": {},
   "outputs": [
    {
     "name": "stderr",
     "output_type": "stream",
     "text": [
      "INFO:polymerist.mdtools.openfftools.topology:Loading serialized SDF Topology from /home/bamo6610/Documents/openff-dev/SPW_openMM/SPW_1m_JC.sdf\n"
     ]
    }
   ],
   "source": [
    "from openff.toolkit import Molecule, Topology, ForceField\n",
    "\n",
    "from polymerist.mdtools.openfftools import topology\n",
    "\n",
    "\n",
    "if sdf_path.exists():\n",
    "    offtop = topology.topology_from_sdf(sdf_path)\n",
    "else:\n",
    "    assert(pdb_path.exists())\n",
    "    offtop = Topology.from_pdb(pdb_path)\n",
    "\n",
    "# mol = next(offtop.molecules)\n",
    "# mol.visualize(backend='nglview')"
   ]
  },
  {
   "cell_type": "markdown",
   "metadata": {},
   "source": [
    "### Parameterize system w/ OpenFF"
   ]
  },
  {
   "cell_type": "code",
   "execution_count": 5,
   "metadata": {},
   "outputs": [],
   "source": [
    "import pickle\n",
    "from openff.interchange import Interchange\n",
    "\n",
    "from polymerist.unitutils.interop import openff_to_openmm\n",
    "from polymerist.mdtools.openfftools import boxvectors\n",
    "from polymerist.mdtools.openfftools import TKREGS, FF_PATH_REGISTRY\n",
    "\n",
    "\n",
    "# load interchange from file if already extant, otherwise make a new one and save it\n",
    "if inc_path.exists():\n",
    "    with inc_path.open('rb') as file:\n",
    "        inc  = pickle.load(file)\n",
    "else:\n",
    "    ff = ForceField('openff-2.0.0.offxml', 'tip3p.offxml') # load generic Sage + TIP3P force fields\n",
    "    inc = ff.create_interchange(topology=offtop, toolkit_registry=TKREGS['OpenEye Toolkit']) # convert to interchange for export\n",
    "    inc.box = boxvectors.get_topology_bbox(offtop)\n",
    "\n",
    "    if not sdf_path.exists():\n",
    "        topology.topology_to_sdf(sdf_path, inc.topology)\n",
    "\n",
    "    with inc_path.open('wb') as file:\n",
    "        pickle.dump(inc, file)\n",
    "\n",
    "# extract OpenMM-specific objects to initialize simulations later\n",
    "ommtop = inc.to_openmm_topology()\n",
    "ommsys = inc.to_openmm_system(combine_nonbonded_forces=False, add_constrained_forces=True)\n",
    "ommpos = openff_to_openmm(inc.positions)"
   ]
  },
  {
   "cell_type": "markdown",
   "metadata": {},
   "source": [
    "### Create ion subsystem"
   ]
  },
  {
   "cell_type": "code",
   "execution_count": 6,
   "metadata": {},
   "outputs": [],
   "source": [
    "# from openmm.openmm import System\n",
    "# import parmed as pmd\n",
    "\n",
    "# pmd_system=pmd.openmm.load_topology(ommtop, ommsys)\n",
    "\n",
    "# u=mda.Universe(pmd_system)\n",
    "# ions=u.select_atoms('resname NA CL')\n",
    "# ions=ions.convert_to('PARMED')\n"
   ]
  },
  {
   "cell_type": "code",
   "execution_count": 7,
   "metadata": {},
   "outputs": [],
   "source": [
    "# import openmm.app as app\n",
    "# ionsys=ions.createSystem(topology=ommtop,nonbondedMethod=app.NoCutoff, constraints=None)"
   ]
  },
  {
   "cell_type": "code",
   "execution_count": 8,
   "metadata": {},
   "outputs": [],
   "source": [
    "from openmm.app.topology import Topology\n",
    "\n",
    "ionindex=[]\n",
    "\n",
    "for atom in ommtop.atoms():\n",
    "    res=atom.residue.name\n",
    "    if res == 'NA' or res == 'CL':\n",
    "        indx=atom.index\n",
    "        ionindex.append(indx)"
   ]
  },
  {
   "cell_type": "code",
   "execution_count": 10,
   "metadata": {},
   "outputs": [
    {
     "data": {
      "text/plain": [
       "130"
      ]
     },
     "execution_count": 10,
     "metadata": {},
     "output_type": "execute_result"
    }
   ],
   "source": [
    "len(ionindex)"
   ]
  },
  {
   "cell_type": "markdown",
   "metadata": {},
   "source": [
    "## Applying constraints - Flat-bottom Potentials"
   ]
  },
  {
   "cell_type": "code",
   "execution_count": 10,
   "metadata": {},
   "outputs": [],
   "source": [
    "from openmm.unit import kilojoule_per_mole, nanometer\n",
    "import openmm\n",
    "# k=4184*(kilojoule_per_mole/nanometer**2)\n",
    "# r=2.4*nanometer\n",
    "fb_force = openmm.CustomExternalForce('0.5*4184*max(0, r-2.4)^2; r=abs(z-7.2)')\n",
    "# fb_force.addPerParticleParameter(\"zi\")"
   ]
  },
  {
   "cell_type": "code",
   "execution_count": 11,
   "metadata": {},
   "outputs": [],
   "source": [
    "ommsys.addForce(fb_force)\n",
    "for i in ionindex:\n",
    "    fb_force.addParticle(i,[])"
   ]
  },
  {
   "cell_type": "code",
   "execution_count": 12,
   "metadata": {},
   "outputs": [],
   "source": [
    "# ommsys.getNumParticles()"
   ]
  },
  {
   "cell_type": "code",
   "execution_count": 13,
   "metadata": {},
   "outputs": [],
   "source": [
    "# ionsys.addForce(fb_force)"
   ]
  },
  {
   "cell_type": "code",
   "execution_count": 14,
   "metadata": {},
   "outputs": [],
   "source": [
    "# for i in range(ionsys.getNumParticles()):\n",
    "#     fb_force.addParticle(i, [])"
   ]
  },
  {
   "cell_type": "code",
   "execution_count": 15,
   "metadata": {},
   "outputs": [],
   "source": [
    "# ionsys.getNumParticles()"
   ]
  },
  {
   "cell_type": "markdown",
   "metadata": {},
   "source": [
    "## Creating OpenMM simulations"
   ]
  },
  {
   "cell_type": "markdown",
   "metadata": {},
   "source": [
    "### Defining simulation parameters"
   ]
  },
  {
   "cell_type": "code",
   "execution_count": 16,
   "metadata": {},
   "outputs": [],
   "source": [
    "from polymerist.mdtools.openmmtools.parameters import SimulationParameters, ThermoParameters, IntegratorParameters, ReporterParameters\n",
    "from polymerist.mdtools.openmmtools.thermo import EnsembleFactory\n",
    "\n",
    "from openmm.unit import kelvin, atmosphere, nanosecond, picosecond, femtoseconds\n",
    "\n",
    "\n",
    "all_omm_sims : dict[str, SimulationParameters] = {\n",
    "    'equil_sim' : SimulationParameters(\n",
    "        integ_params=IntegratorParameters(\n",
    "            time_step=2*femtoseconds,\n",
    "            total_time=10*picosecond,\n",
    "            num_samples=50,\n",
    "        ),\n",
    "        thermo_params=ThermoParameters(\n",
    "            ensemble='NVT',\n",
    "            temperature=300 * kelvin,\n",
    "        ),\n",
    "        reporter_params=ReporterParameters(),\n",
    "    ),\n",
    "    'prod_sim' : SimulationParameters(\n",
    "        integ_params=IntegratorParameters(\n",
    "            time_step=2*femtoseconds,\n",
    "            total_time=100*picosecond,\n",
    "            num_samples=50,\n",
    "        ),\n",
    "        thermo_params=ThermoParameters(\n",
    "            ensemble='NVT',\n",
    "            temperature=300 * kelvin,\n",
    "        ),\n",
    "        reporter_params=ReporterParameters(),\n",
    "    ),\n",
    "}    \n",
    "\n",
    "# for path_name, sim_params in all_omm_sims.items():\n",
    "    # sim_params.to_file(assemble_path(working_dir, path_name, postfix='params', extension='json'))"
   ]
  },
  {
   "cell_type": "markdown",
   "metadata": {},
   "source": [
    "### Run the defined simulation in series"
   ]
  },
  {
   "cell_type": "code",
   "execution_count": 17,
   "metadata": {},
   "outputs": [
    {
     "name": "stderr",
     "output_type": "stream",
     "text": [
      "INFO:polymerist.mdtools.openmmtools.execution:Initializing simulation 1/2 (\"equil_sim\")\n",
      "INFO:polymerist.mdtools.openmmtools.thermo:Created LangevinMiddleIntegrator for NVT (Canonical) ensemble\n",
      "INFO:polymerist.mdtools.openmmtools.preparation:Setting simulation state\n",
      "INFO:polymerist.mdtools.openmmtools.reporters:Prepared DCDReporter which reports to OpenMM_sims_FBPs/equil_sim/equil_sim_trajectory.dcd\n",
      "INFO:polymerist.mdtools.openmmtools.reporters:Prepared CheckpointReporter which reports to OpenMM_sims_FBPs/equil_sim/equil_sim_checkpoint.chk\n",
      "INFO:polymerist.mdtools.openmmtools.reporters:Prepared StateReporter which reports to OpenMM_sims_FBPs/equil_sim/equil_sim_state.xml\n",
      "INFO:polymerist.mdtools.openmmtools.reporters:Prepared StateDataReporter which reports to OpenMM_sims_FBPs/equil_sim/equil_sim_state_data.csv\n",
      "INFO:polymerist.mdtools.openmmtools.preparation:Setting positions in Context\n",
      "INFO:polymerist.mdtools.openmmtools.execution:Performing energy minimization (initial PE = 2.3407988346136256e+17 kJ/mol)\n",
      "INFO:polymerist.mdtools.openmmtools.execution:Energy successfully minimized (final PE = -556059.4920785166 kJ/mol)\n",
      "INFO:polymerist.mdtools.openmmtools.execution:Saved energy-minimized Simulation Topology at OpenMM_sims_FBPs/equil_sim/equil_sim_topology.pdb\n",
      "INFO:polymerist.mdtools.openmmtools.execution:Saved serialized Simulation System at OpenMM_sims_FBPs/equil_sim/equil_sim_system.xml\n",
      "INFO:polymerist.mdtools.openmmtools.execution:Integrating 10 ps OpenMM Simulation for 5000 steps\n",
      "INFO:polymerist.mdtools.openmmtools.execution:Simulation integration completed successfully\n",
      "INFO:polymerist.mdtools.openmmtools.execution:\n",
      "INFO:polymerist.mdtools.openmmtools.execution:Initializing simulation 2/2 (\"prod_sim\")\n",
      "INFO:polymerist.mdtools.openmmtools.thermo:Created LangevinMiddleIntegrator for NVT (Canonical) ensemble\n",
      "INFO:polymerist.mdtools.openmmtools.preparation:Setting simulation state\n",
      "INFO:polymerist.mdtools.openmmtools.reporters:Prepared DCDReporter which reports to OpenMM_sims_FBPs/prod_sim/prod_sim_trajectory.dcd\n",
      "INFO:polymerist.mdtools.openmmtools.reporters:Prepared CheckpointReporter which reports to OpenMM_sims_FBPs/prod_sim/prod_sim_checkpoint.chk\n",
      "INFO:polymerist.mdtools.openmmtools.reporters:Prepared StateReporter which reports to OpenMM_sims_FBPs/prod_sim/prod_sim_state.xml\n",
      "INFO:polymerist.mdtools.openmmtools.reporters:Prepared StateDataReporter which reports to OpenMM_sims_FBPs/prod_sim/prod_sim_state_data.csv\n",
      "INFO:polymerist.mdtools.openmmtools.preparation:Setting positions in Context\n",
      "INFO:polymerist.mdtools.openmmtools.execution:Performing energy minimization (initial PE = -456233.96709327755 kJ/mol)\n",
      "INFO:polymerist.mdtools.openmmtools.execution:Energy successfully minimized (final PE = -564948.4817741388 kJ/mol)\n",
      "INFO:polymerist.mdtools.openmmtools.execution:Saved energy-minimized Simulation Topology at OpenMM_sims_FBPs/prod_sim/prod_sim_topology.pdb\n",
      "INFO:polymerist.mdtools.openmmtools.execution:Saved serialized Simulation System at OpenMM_sims_FBPs/prod_sim/prod_sim_system.xml\n",
      "INFO:polymerist.mdtools.openmmtools.execution:Integrating 100 ps OpenMM Simulation for 50000 steps\n",
      "INFO:polymerist.mdtools.openmmtools.execution:Simulation integration completed successfully\n",
      "INFO:polymerist.mdtools.openmmtools.execution:\n"
     ]
    }
   ],
   "source": [
    "from polymerist.mdtools.openmmtools.execution import run_simulation_schedule\n",
    "\n",
    "\n",
    "omm_sim_dir = Path('OpenMM_sims_FBPs')\n",
    "omm_sim_dir.mkdir(exist_ok=True)\n",
    "\n",
    "history = run_simulation_schedule(\n",
    "    working_dir=omm_sim_dir,\n",
    "    schedule=all_omm_sims,\n",
    "    init_top=ommtop,\n",
    "    init_sys=ommsys,\n",
    "    init_pos=ommpos,\n",
    "    return_history=True\n",
    ")"
   ]
  },
  {
   "cell_type": "code",
   "execution_count": null,
   "metadata": {},
   "outputs": [],
   "source": []
  }
 ],
 "metadata": {
  "kernelspec": {
   "display_name": "polymerist-env",
   "language": "python",
   "name": "python3"
  },
  "language_info": {
   "codemirror_mode": {
    "name": "ipython",
    "version": 3
   },
   "file_extension": ".py",
   "mimetype": "text/x-python",
   "name": "python",
   "nbconvert_exporter": "python",
   "pygments_lexer": "ipython3",
   "version": "3.11.0"
  }
 },
 "nbformat": 4,
 "nbformat_minor": 2
}
